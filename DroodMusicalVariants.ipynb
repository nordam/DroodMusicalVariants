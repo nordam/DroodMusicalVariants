{
 "cells": [
  {
   "cell_type": "markdown",
   "metadata": {},
   "source": [
    "# Number of combinations in the *Drood* musical\n",
    "\n",
    "The code below calculates the number of possible variants of the musical version of *The Mystery of Edwin Drood*, under different rules, and different assumptions about the roles.\n",
    "\n",
    "The rules are:\n",
    "* Broadway rules:\n",
    " * Datchery and murderer cannot be the same\n",
    " * Murderer cannot get married\n",
    "* Amateur theatre rules:\n",
    " * Datchery and murderer cannot be the same\n",
    " * Murderer cannot get married\n",
    " * Datchery cannot get married\n",
    "\n",
    "The assumptions are:\n",
    "* Durdles can be the murderer, marriage is hetrosexual\n",
    "* Durdles cannot be the murderer, marriage is hetrosexual\n",
    "* Durdles can be the murderer, marriage is not necessarily hetrosexual\n",
    "* Durdles cannot be the murderer, marriage is not necessarily hetrosexual"
   ]
  },
  {
   "cell_type": "markdown",
   "metadata": {},
   "source": [
    "## Variants with Durdles as potential murderer, and hetrosexual marriage"
   ]
  },
  {
   "cell_type": "code",
   "execution_count": 1,
   "metadata": {},
   "outputs": [
    {
     "name": "stdout",
     "output_type": "stream",
     "text": [
      "With Durdles as potential murderer:\n",
      "Total variations: 840\n",
      "Broadway rules:   578\n",
      "Amateur rules:    436\n"
     ]
    }
   ],
   "source": [
    "count0 = 0\n",
    "count1 = 0\n",
    "count2 = 0\n",
    "\n",
    "# Quadruple for loop generates all possible variatons\n",
    "for murderer in ['Bazzard', 'Crisparkle', 'Helena', 'Neville', 'Rosa', 'Puffer', 'Jasper', 'Durdles']:\n",
    "    for Datchery in ['Bazzard', 'Crisparkle', 'Helena', 'Neville', 'Rosa']:\n",
    "        for lover1 in ['Helena', 'Rosa', 'Puffer']:\n",
    "            for lover2 in ['Bazzard', 'Crisparkle', 'Neville', 'Jasper', 'Durdles', 'Sapsea', 'Deputy']:\n",
    "                \n",
    "                # Count all variants\n",
    "                count0 += 1\n",
    "                \n",
    "                # Count variants under Broadway rules:\n",
    "                # Datchery and murderer cannot be the same\n",
    "                # Murderer cannot get married\n",
    "                if ( (Datchery != murderer) and (murderer not in [lover1, lover2]) ):\n",
    "                    count1 += 1\n",
    "                    \n",
    "                # Count variants under amateur theatre rules:\n",
    "                # Datchery and murderer cannot be the same\n",
    "                # Murderer cannot get married\n",
    "                # Datchery cannot get married\n",
    "                if ( (Datchery != murderer) and (murderer not in [lover1, lover2]) and (Datchery not in [lover1, lover2]) ):\n",
    "                    count2 += 1\n",
    "\n",
    "print(f'With Durdles as potential murderer:')\n",
    "print(f'Total variations: {count0}')\n",
    "print(f'Broadway rules:   {count1}')\n",
    "print(f'Amateur rules:    {count2}')"
   ]
  },
  {
   "cell_type": "markdown",
   "metadata": {},
   "source": [
    "## Variants without Durdles as potential murderer, and hetrosexual marriage"
   ]
  },
  {
   "cell_type": "code",
   "execution_count": 2,
   "metadata": {},
   "outputs": [
    {
     "name": "stdout",
     "output_type": "stream",
     "text": [
      "Without Durdles as potential murderer:\n",
      "Total variations: 735\n",
      "Broadway rules:   488\n",
      "Amateur rules:    367\n"
     ]
    }
   ],
   "source": [
    "count0 = 0\n",
    "count1 = 0\n",
    "count2 = 0\n",
    "\n",
    "# Quadruple for loop generates all possible variatons\n",
    "for murderer in ['Bazzard', 'Crisparkle', 'Helena', 'Neville', 'Rosa', 'Puffer', 'Jasper']:\n",
    "    for Datchery in ['Bazzard', 'Crisparkle', 'Helena', 'Neville', 'Rosa']:\n",
    "        for lover1 in ['Helena', 'Rosa', 'Puffer']:\n",
    "            for lover2 in ['Bazzard', 'Crisparkle', 'Neville', 'Jasper', 'Durdles', 'Sapsea', 'Deputy']:\n",
    "                \n",
    "                # Count all variants\n",
    "                count0 += 1\n",
    "                \n",
    "                # Count variants under Broadway rules:\n",
    "                # Datchery and murderer cannot be the same\n",
    "                # Murderer cannot get married\n",
    "                if ( (Datchery != murderer) and (murderer not in [lover1, lover2]) ):\n",
    "                    count1 += 1\n",
    "                    \n",
    "                # Count variants under amateur theatre rules:\n",
    "                # Datchery and murderer cannot be the same\n",
    "                # Murderer cannot get married\n",
    "                # Datchery cannot get married\n",
    "                if ( (Datchery != murderer) and (murderer not in [lover1, lover2]) and (Datchery not in [lover1, lover2]) ):\n",
    "                    count2 += 1\n",
    "\n",
    "print(f'Without Durdles as potential murderer:')\n",
    "print(f'Total variations: {count0}')\n",
    "print(f'Broadway rules:   {count1}')\n",
    "print(f'Amateur rules:    {count2}')"
   ]
  },
  {
   "cell_type": "markdown",
   "metadata": {},
   "source": [
    "## Variants with Durdles as potential murderer, and not necessarily hetrosexual marriage"
   ]
  },
  {
   "cell_type": "code",
   "execution_count": 3,
   "metadata": {},
   "outputs": [
    {
     "name": "stdout",
     "output_type": "stream",
     "text": [
      "With Durdles as potential murderer:\n",
      "Total variations: 3600\n",
      "Broadway rules:   2520\n",
      "Amateur rules:    1960\n"
     ]
    }
   ],
   "source": [
    "count0 = 0\n",
    "count1 = 0\n",
    "count2 = 0\n",
    "\n",
    "# Quadruple for loop generates all possible variatons\n",
    "for murderer in ['Bazzard', 'Crisparkle', 'Helena', 'Neville', 'Rosa', 'Puffer', 'Jasper', 'Durdles']:\n",
    "    for Datchery in ['Bazzard', 'Crisparkle', 'Helena', 'Neville', 'Rosa']:\n",
    "        for lover1 in ['Helena', 'Rosa', 'Puffer', 'Bazzard', 'Crisparkle', 'Neville', 'Jasper', 'Durdles', 'Sapsea', 'Deputy']:\n",
    "            for lover2 in ['Helena', 'Rosa', 'Puffer', 'Bazzard', 'Crisparkle', 'Neville', 'Jasper', 'Durdles', 'Sapsea', 'Deputy']:\n",
    "                \n",
    "                # Count only those where lover1 and lover2 are different\n",
    "                if lover1 != lover2:\n",
    "\n",
    "                    # Count all variants\n",
    "                    count0 += 1\n",
    "\n",
    "                    # Count variants under Broadway rules:\n",
    "                    # Datchery and murderer cannot be the same\n",
    "                    # Murderer cannot get married\n",
    "                    if ( (Datchery != murderer) and (murderer not in [lover1, lover2]) ):\n",
    "                        count1 += 1\n",
    "\n",
    "                    # Count variants under amateur theatre rules:\n",
    "                    # Datchery and murderer cannot be the same\n",
    "                    # Murderer cannot get married\n",
    "                    # Datchery cannot get married\n",
    "                    if ( (Datchery != murderer) and (murderer not in [lover1, lover2]) and (Datchery not in [lover1, lover2]) ):\n",
    "                        count2 += 1\n",
    "\n",
    "print(f'With Durdles as potential murderer:')\n",
    "print(f'Total variations: {count0}')\n",
    "print(f'Broadway rules:   {count1}')\n",
    "print(f'Amateur rules:    {count2}')"
   ]
  },
  {
   "cell_type": "markdown",
   "metadata": {},
   "source": [
    "## Variants without Durdles as potential murderer, and not necessarily hetrosexual marriage"
   ]
  },
  {
   "cell_type": "code",
   "execution_count": 4,
   "metadata": {},
   "outputs": [
    {
     "name": "stdout",
     "output_type": "stream",
     "text": [
      "Without Durdles as potential murderer:\n",
      "Total variations: 3150\n",
      "Broadway rules:   2160\n",
      "Amateur rules:    1680\n"
     ]
    }
   ],
   "source": [
    "count0 = 0\n",
    "count1 = 0\n",
    "count2 = 0\n",
    "\n",
    "# Quadruple for loop generates all possible variatons\n",
    "for murderer in ['Bazzard', 'Crisparkle', 'Helena', 'Neville', 'Rosa', 'Puffer', 'Jasper']:\n",
    "    for Datchery in ['Bazzard', 'Crisparkle', 'Helena', 'Neville', 'Rosa']:\n",
    "        for lover1 in ['Helena', 'Rosa', 'Puffer', 'Bazzard', 'Crisparkle', 'Neville', 'Jasper', 'Durdles', 'Sapsea', 'Deputy']:\n",
    "            for lover2 in ['Helena', 'Rosa', 'Puffer', 'Bazzard', 'Crisparkle', 'Neville', 'Jasper', 'Durdles', 'Sapsea', 'Deputy']:\n",
    "                \n",
    "                # Count only those where lover1 and lover2 are different\n",
    "                if lover1 != lover2:\n",
    "\n",
    "                    # Count all variants\n",
    "                    count0 += 1\n",
    "\n",
    "                    # Count variants under Broadway rules:\n",
    "                    # Datchery and murderer cannot be the same\n",
    "                    # Murderer cannot get married\n",
    "                    if ( (Datchery != murderer) and (murderer not in [lover1, lover2]) ):\n",
    "                        count1 += 1\n",
    "\n",
    "                    # Count variants under amateur theatre rules:\n",
    "                    # Datchery and murderer cannot be the same\n",
    "                    # Murderer cannot get married\n",
    "                    # Datchery cannot get married\n",
    "                    if ( (Datchery != murderer) and (murderer not in [lover1, lover2]) and (Datchery not in [lover1, lover2]) ):\n",
    "                        count2 += 1\n",
    "\n",
    "print(f'Without Durdles as potential murderer:')\n",
    "print(f'Total variations: {count0}')\n",
    "print(f'Broadway rules:   {count1}')\n",
    "print(f'Amateur rules:    {count2}')"
   ]
  },
  {
   "cell_type": "code",
   "execution_count": null,
   "metadata": {},
   "outputs": [],
   "source": []
  }
 ],
 "metadata": {
  "kernelspec": {
   "display_name": "Python 3",
   "language": "python",
   "name": "python3"
  },
  "language_info": {
   "codemirror_mode": {
    "name": "ipython",
    "version": 3
   },
   "file_extension": ".py",
   "mimetype": "text/x-python",
   "name": "python",
   "nbconvert_exporter": "python",
   "pygments_lexer": "ipython3",
   "version": "3.6.9"
  }
 },
 "nbformat": 4,
 "nbformat_minor": 2
}
