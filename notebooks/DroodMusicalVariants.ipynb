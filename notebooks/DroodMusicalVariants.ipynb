{
 "cells": [
  {
   "cell_type": "code",
   "execution_count": 1,
   "metadata": {},
   "outputs": [
    {
     "name": "stdout",
     "output_type": "stream",
     "text": [
      "With Durdles as potential murderer:\n",
      "Total variations: 840\n",
      "Broadway rules:   578\n",
      "Amateur rules:    436\n"
     ]
    }
   ],
   "source": [
    "count0 = 0\n",
    "count1 = 0\n",
    "count2 = 0\n",
    "\n",
    "# Quadruple for loop generates all possible variatons\n",
    "for murderer in ['Bazzard', 'Crisparkle', 'Helena', 'Neville', 'Rosa', 'Puffer', 'Jasper', 'Durdles']:\n",
    "    for Datchery in ['Bazzard', 'Crisparkle', 'Helena', 'Neville', 'Rosa']:\n",
    "        for lover1 in ['Helena', 'Rosa', 'Puffer']:\n",
    "            for lover2 in ['Bazzard', 'Crisparkle', 'Neville', 'Jasper', 'Durdles', 'Sapsea', 'Deputy']:\n",
    "                \n",
    "                # Count all variants\n",
    "                count0 += 1\n",
    "                \n",
    "                # Count variants under Broadway rules:\n",
    "                # Datchery and murderer cannot be the same\n",
    "                # Murderer cannot get married\n",
    "                if ( (Datchery != murderer) and (murderer not in [lover1, lover2]) ):\n",
    "                    count1 += 1\n",
    "                    \n",
    "                # Count variants under amateur theatre rules:\n",
    "                # Datchery and murderer cannot be the same\n",
    "                # Murderer cannot get married\n",
    "                # Datchery cannot get married\n",
    "                if ( (Datchery != murderer) and (murderer not in [lover1, lover2]) and (Datchery not in [lover1, lover2]) ):\n",
    "                    count2 += 1\n",
    "\n",
    "print(f'With Durdles as potential murderer:')\n",
    "print(f'Total variations: {count0}')\n",
    "print(f'Broadway rules:   {count1}')\n",
    "print(f'Amateur rules:    {count2}')"
   ]
  },
  {
   "cell_type": "code",
   "execution_count": 2,
   "metadata": {},
   "outputs": [
    {
     "name": "stdout",
     "output_type": "stream",
     "text": [
      "Without Durdles as potential murderer:\n",
      "Total variations: 735\n",
      "Broadway rules:   488\n",
      "Amateur rules:    367\n"
     ]
    }
   ],
   "source": [
    "count0 = 0\n",
    "count1 = 0\n",
    "count2 = 0\n",
    "\n",
    "# Quadruple for loop generates all possible variatons\n",
    "for murderer in ['Bazzard', 'Crisparkle', 'Helena', 'Neville', 'Rosa', 'Puffer', 'Jasper']:\n",
    "    for Datchery in ['Bazzard', 'Crisparkle', 'Helena', 'Neville', 'Rosa']:\n",
    "        for lover1 in ['Helena', 'Rosa', 'Puffer']:\n",
    "            for lover2 in ['Bazzard', 'Crisparkle', 'Neville', 'Jasper', 'Durdles', 'Sapsea', 'Deputy']:\n",
    "                \n",
    "                # Count all variants\n",
    "                count0 += 1\n",
    "                \n",
    "                # Count variants under Broadway rules:\n",
    "                # Datchery and murderer cannot be the same\n",
    "                # Murderer cannot get married\n",
    "                if ( (Datchery != murderer) and (murderer not in [lover1, lover2]) ):\n",
    "                    count1 += 1\n",
    "                    \n",
    "                # Count variants under amateur theatre rules:\n",
    "                # Datchery and murderer cannot be the same\n",
    "                # Murderer cannot get married\n",
    "                # Datchery cannot get married\n",
    "                if ( (Datchery != murderer) and (murderer not in [lover1, lover2]) and (Datchery not in [lover1, lover2]) ):\n",
    "                    count2 += 1\n",
    "\n",
    "print(f'Without Durdles as potential murderer:')\n",
    "print(f'Total variations: {count0}')\n",
    "print(f'Broadway rules:   {count1}')\n",
    "print(f'Amateur rules:    {count2}')"
   ]
  },
  {
   "cell_type": "code",
   "execution_count": null,
   "metadata": {},
   "outputs": [],
   "source": []
  }
 ],
 "metadata": {
  "kernelspec": {
   "display_name": "Python 3",
   "language": "python",
   "name": "python3"
  },
  "language_info": {
   "codemirror_mode": {
    "name": "ipython",
    "version": 3
   },
   "file_extension": ".py",
   "mimetype": "text/x-python",
   "name": "python",
   "nbconvert_exporter": "python",
   "pygments_lexer": "ipython3",
   "version": "3.6.9"
  }
 },
 "nbformat": 4,
 "nbformat_minor": 2
}
